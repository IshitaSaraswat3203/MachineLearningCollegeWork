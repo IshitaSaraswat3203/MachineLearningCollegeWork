{
  "nbformat": 4,
  "nbformat_minor": 0,
  "metadata": {
    "colab": {
      "provenance": [],
      "authorship_tag": "ABX9TyPaYyFnFg+DRoSblXP46I4F",
      "include_colab_link": true
    },
    "kernelspec": {
      "name": "python3",
      "display_name": "Python 3"
    },
    "language_info": {
      "name": "python"
    }
  },
  "cells": [
    {
      "cell_type": "markdown",
      "metadata": {
        "id": "view-in-github",
        "colab_type": "text"
      },
      "source": [
        "<a href=\"https://colab.research.google.com/github/IshitaSaraswat3203/MachineLearningCollegeWork/blob/Programs/EXPERIMENT_4.ipynb\" target=\"_parent\"><img src=\"https://colab.research.google.com/assets/colab-badge.svg\" alt=\"Open In Colab\"/></a>"
      ]
    },
    {
      "cell_type": "code",
      "execution_count": null,
      "metadata": {
        "colab": {
          "base_uri": "https://localhost:8080/"
        },
        "id": "qbLvjlystLs7",
        "outputId": "f12d3538-1c6d-4c45-e543-a9566256e6e1"
      },
      "outputs": [
        {
          "output_type": "stream",
          "name": "stdout",
          "text": [
            "Probability that it is Friday is :  0.2\n",
            "Probability that it is Friday and that a student is absentis :  0.03\n",
            "Probability that a student is absent given that today is Friday :  15.0 %\n"
          ]
        }
      ],
      "source": [
        "poF = 20/100\n",
        "poA = 3/100\n",
        "print(\"Probability that it is Friday is : \",poF)\n",
        "print(\"Probability that it is Friday and that a student is absentis : \",poA)\n",
        "poFA = (poA/poF) *100\n",
        "print(\"Probability that a student is absent given that today is Friday : \",poFA,\"%\")"
      ]
    }
  ]
}