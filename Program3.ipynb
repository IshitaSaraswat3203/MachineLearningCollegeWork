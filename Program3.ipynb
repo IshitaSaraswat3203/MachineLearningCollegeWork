{
  "nbformat": 4,
  "nbformat_minor": 0,
  "metadata": {
    "colab": {
      "provenance": [],
      "authorship_tag": "ABX9TyPNFVRBw4C7Sq15AZOrb6t8",
      "include_colab_link": true
    },
    "kernelspec": {
      "name": "python3",
      "display_name": "Python 3"
    },
    "language_info": {
      "name": "python"
    }
  },
  "cells": [
    {
      "cell_type": "markdown",
      "metadata": {
        "id": "view-in-github",
        "colab_type": "text"
      },
      "source": [
        "<a href=\"https://colab.research.google.com/github/IshitaSaraswat3203/MachineLearningCollegeWork/blob/Programs/Program3.ipynb\" target=\"_parent\"><img src=\"https://colab.research.google.com/assets/colab-badge.svg\" alt=\"Open In Colab\"/></a>"
      ]
    },
    {
      "cell_type": "code",
      "execution_count": 3,
      "metadata": {
        "colab": {
          "base_uri": "https://localhost:8080/"
        },
        "id": "ZRZC3IF09FPt",
        "outputId": "759dc7c0-7427-4b8c-fd61-3880014dab12"
      },
      "outputs": [
        {
          "output_type": "stream",
          "name": "stdout",
          "text": [
            "id              3\n",
            "Name        Danya\n",
            "Gender     Female\n",
            "Age            14\n",
            "Section         C\n",
            "Science        12\n",
            "English        87\n",
            "History        16\n",
            "Maths          96\n",
            "Name: 2, dtype: object\n"
          ]
        }
      ],
      "source": [
        "import pandas \n",
        "\n",
        "# reading the data from the data.csv file\n",
        "housing_data = pandas.read_csv(\"marksheet.csv\")\n",
        "\n",
        "# printing the data as output\n",
        "print(housing_data.iloc[2])"
      ]
    }
  ]
}