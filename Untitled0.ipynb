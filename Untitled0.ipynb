{
  "nbformat": 4,
  "nbformat_minor": 0,
  "metadata": {
    "colab": {
      "provenance": [],
      "authorship_tag": "ABX9TyOl0qwfVsw+zZcLnozFPNVk",
      "include_colab_link": true
    },
    "kernelspec": {
      "name": "python3",
      "display_name": "Python 3"
    },
    "language_info": {
      "name": "python"
    }
  },
  "cells": [
    {
      "cell_type": "markdown",
      "metadata": {
        "id": "view-in-github",
        "colab_type": "text"
      },
      "source": [
        "<a href=\"https://colab.research.google.com/github/IshitaSaraswat3203/MachineLearningCollegeWork/blob/Program-1/Untitled0.ipynb\" target=\"_parent\"><img src=\"https://colab.research.google.com/assets/colab-badge.svg\" alt=\"Open In Colab\"/></a>"
      ]
    },
    {
      "cell_type": "code",
      "execution_count": 4,
      "metadata": {
        "colab": {
          "base_uri": "https://localhost:8080/"
        },
        "id": "SeR0IFcRpbUQ",
        "outputId": "4b6e8d71-476e-44c8-9cd0-28f546fe489e"
      },
      "outputs": [
        {
          "output_type": "stream",
          "name": "stdout",
          "text": [
            "Enter the number of rows:2\n",
            "Enter the number of columns:2\n",
            "Enter the entries rowwise:\n",
            "8\n",
            "9\n",
            "4\n",
            "5\n",
            "The Matrix is :\n",
            "8 9 \n",
            "4 5 \n"
          ]
        }
      ],
      "source": [
        "R = int(input(\"Enter the number of rows:\"))\n",
        "C = int(input(\"Enter the number of columns:\"))\n",
        " \n",
        "matrix = []\n",
        "print(\"Enter the entries rowwise:\")\n",
        " \n",
        "for i in range(R):          \n",
        "    a =[]\n",
        "    for j in range(C):     \n",
        "         a.append(int(input()))\n",
        "    matrix.append(a)\n",
        "print(\"The Matrix is :\")\n",
        "for i in range(R):\n",
        "    for j in range(C):\n",
        "        print(matrix[i][j], end = \" \")\n",
        "    print()"
      ]
    }
  ]
}